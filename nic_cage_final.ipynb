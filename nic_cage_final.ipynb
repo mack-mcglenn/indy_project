{
 "cells": [
  {
   "cell_type": "markdown",
   "id": "806de9a6-2f87-4f04-943d-b9660607da61",
   "metadata": {},
   "source": [
    "## Rage in the (Nicolas) Cage\n",
    "\n",
    "Nicolas Cage has undoubtedly one of the most eclectic filmographies in Hollywood. The same guy that falls in IMDB's top 75 percentile of highest paid actors also has an average Rotten Tomato score of less than 50%. And with over 100 screened roles credited to his name, it can certainly be said that Cage is a guy who is willing to try anything at least 4 times. This project will be mostly exploratory, taking a deep dive into the career of Ole Saint Nick. Then, I'll build a reccomendation system that will deliver suggestions of other films you might enjoy based off of similarity in Genre."
   ]
  },
  {
   "cell_type": "code",
   "execution_count": 1,
   "id": "05ee81e6-b20e-4947-bea2-c02fba207e5d",
   "metadata": {},
   "outputs": [],
   "source": [
    "import pandas as pd\n",
    "import numpy as np\n",
    "import indy_proj_wr as wr\n",
    "\n",
    "import csv\n",
    "import matplotlib.pyplot as plt\n",
    "import statsmodels.api as sm\n",
    "import scipy.stats as stats\n",
    "import seaborn as sb\n",
    "\n",
    "from scipy import stats\n",
    "from scipy.stats import pearsonr, spearmanr, mannwhitneyu\n",
    "\n",
    "from sklearn.model_selection import train_test_split\n",
    "from sklearn.neighbors import KNeighborsClassifier\n",
    "from sklearn.tree import DecisionTreeClassifier, plot_tree, export_text\n",
    "from sklearn.linear_model import LogisticRegression\n",
    "from sklearn.ensemble import RandomForestClassifier\n",
    "\n",
    "from sklearn.metrics.pairwise import cosine_similarity\n",
    "from sklearn.feature_extraction.text import CountVectorizer\n",
    "\n",
    "import warnings\n",
    "warnings.filterwarnings('ignore')"
   ]
  },
  {
   "cell_type": "markdown",
   "id": "a00caf6e-4df2-484d-9e8a-c9b3914cd90e",
   "metadata": {},
   "source": [
    "#### Acquire\n",
    "\n",
    "The original dataset was acquired via a csv file from a kaggle database created by Em Highland (ehartlett). \n",
    "**Original Shape:** 100 rows x 6 columns\n",
    "\n",
    "My first step in acquisition was manually adding the box office earnings for each film into a csv.\n",
    "\n",
    "Original and added features can be found in this handy dandy data dictionary:"
   ]
  },
  {
   "cell_type": "code",
   "execution_count": 2,
   "id": "1c8ccaad-acac-4739-a3d6-f86b56f49eb9",
   "metadata": {},
   "outputs": [
    {
     "data": {
      "text/html": [
       "<div>\n",
       "<style scoped>\n",
       "    .dataframe tbody tr th:only-of-type {\n",
       "        vertical-align: middle;\n",
       "    }\n",
       "\n",
       "    .dataframe tbody tr th {\n",
       "        vertical-align: top;\n",
       "    }\n",
       "\n",
       "    .dataframe thead th {\n",
       "        text-align: right;\n",
       "    }\n",
       "</style>\n",
       "<table border=\"1\" class=\"dataframe\">\n",
       "  <thead>\n",
       "    <tr style=\"text-align: right;\">\n",
       "      <th></th>\n",
       "      <th>Feature</th>\n",
       "      <th>Description</th>\n",
       "      <th>Type</th>\n",
       "      <th>Status</th>\n",
       "    </tr>\n",
       "  </thead>\n",
       "  <tbody>\n",
       "    <tr>\n",
       "      <th>0</th>\n",
       "      <td>Movie</td>\n",
       "      <td>title of film featuring the incomperable Nic C...</td>\n",
       "      <td>object</td>\n",
       "      <td>original</td>\n",
       "    </tr>\n",
       "    <tr>\n",
       "      <th>1</th>\n",
       "      <td>Rating</td>\n",
       "      <td>maturity rating for each film</td>\n",
       "      <td>object</td>\n",
       "      <td>original</td>\n",
       "    </tr>\n",
       "    <tr>\n",
       "      <th>2</th>\n",
       "      <td>Character</td>\n",
       "      <td>name of character with the honor of being potr...</td>\n",
       "      <td>object</td>\n",
       "      <td>original</td>\n",
       "    </tr>\n",
       "    <tr>\n",
       "      <th>3</th>\n",
       "      <td>Voice</td>\n",
       "      <td>indicates whether a role incorporated voice ac...</td>\n",
       "      <td>integer</td>\n",
       "      <td>original</td>\n",
       "    </tr>\n",
       "    <tr>\n",
       "      <th>4</th>\n",
       "      <td>Year</td>\n",
       "      <td>the year Mr. Cage blessed us with a particular...</td>\n",
       "      <td>integer</td>\n",
       "      <td>original</td>\n",
       "    </tr>\n",
       "    <tr>\n",
       "      <th>5</th>\n",
       "      <td>RottenTomatoes</td>\n",
       "      <td>calculated Rotten Tomato score for each film</td>\n",
       "      <td>obj -&gt; float</td>\n",
       "      <td>original</td>\n",
       "    </tr>\n",
       "    <tr>\n",
       "      <th>6</th>\n",
       "      <td>Earnings</td>\n",
       "      <td>total worldwide and domestic earnings for each...</td>\n",
       "      <td>integer</td>\n",
       "      <td>added</td>\n",
       "    </tr>\n",
       "    <tr>\n",
       "      <th>7</th>\n",
       "      <td>Genre</td>\n",
       "      <td>the genre of each glorious film</td>\n",
       "      <td>object</td>\n",
       "      <td>added</td>\n",
       "    </tr>\n",
       "    <tr>\n",
       "      <th>8</th>\n",
       "      <td>Rating_num</td>\n",
       "      <td>enumerated version of maturity rating</td>\n",
       "      <td>integer</td>\n",
       "      <td>added</td>\n",
       "    </tr>\n",
       "    <tr>\n",
       "      <th>9</th>\n",
       "      <td>Genre_num</td>\n",
       "      <td>enumerated version of genre</td>\n",
       "      <td>integer</td>\n",
       "      <td>added</td>\n",
       "    </tr>\n",
       "  </tbody>\n",
       "</table>\n",
       "</div>"
      ],
      "text/plain": [
       "          Feature                                        Description  \\\n",
       "0           Movie  title of film featuring the incomperable Nic C...   \n",
       "1          Rating                      maturity rating for each film   \n",
       "2       Character  name of character with the honor of being potr...   \n",
       "3           Voice  indicates whether a role incorporated voice ac...   \n",
       "4            Year  the year Mr. Cage blessed us with a particular...   \n",
       "5  RottenTomatoes       calculated Rotten Tomato score for each film   \n",
       "6        Earnings  total worldwide and domestic earnings for each...   \n",
       "7           Genre                    the genre of each glorious film   \n",
       "8      Rating_num              enumerated version of maturity rating   \n",
       "9       Genre_num                        enumerated version of genre   \n",
       "\n",
       "            Type    Status  \n",
       "0         object  original  \n",
       "1         object  original  \n",
       "2         object  original  \n",
       "3        integer  original  \n",
       "4        integer  original  \n",
       "5   obj -> float  original  \n",
       "6        integer     added  \n",
       "7         object     added  \n",
       "8        integer     added  \n",
       "9        integer     added  "
      ]
     },
     "execution_count": 2,
     "metadata": {},
     "output_type": "execute_result"
    }
   ],
   "source": [
    "pd.read_csv('nickyc_dd.csv').drop(index=[10,11])"
   ]
  },
  {
   "cell_type": "code",
   "execution_count": 3,
   "id": "cf22b858-e531-427f-a0c0-5b048efd6d99",
   "metadata": {},
   "outputs": [],
   "source": [
    "nic = wr.acq_nic()"
   ]
  },
  {
   "cell_type": "code",
   "execution_count": 4,
   "id": "a8f9db2c-62a8-4ff6-b78f-d94496fa1d80",
   "metadata": {},
   "outputs": [
    {
     "data": {
      "text/html": [
       "<div>\n",
       "<style scoped>\n",
       "    .dataframe tbody tr th:only-of-type {\n",
       "        vertical-align: middle;\n",
       "    }\n",
       "\n",
       "    .dataframe tbody tr th {\n",
       "        vertical-align: top;\n",
       "    }\n",
       "\n",
       "    .dataframe thead th {\n",
       "        text-align: right;\n",
       "    }\n",
       "</style>\n",
       "<table border=\"1\" class=\"dataframe\">\n",
       "  <thead>\n",
       "    <tr style=\"text-align: right;\">\n",
       "      <th></th>\n",
       "      <th>Movie</th>\n",
       "      <th>Rating</th>\n",
       "      <th>Character</th>\n",
       "      <th>Voice</th>\n",
       "      <th>Year</th>\n",
       "      <th>RottenTomatoes</th>\n",
       "      <th>Earnings</th>\n",
       "    </tr>\n",
       "  </thead>\n",
       "  <tbody>\n",
       "    <tr>\n",
       "      <th>0</th>\n",
       "      <td>The Best of Times</td>\n",
       "      <td>TV-NR</td>\n",
       "      <td>Nicholas</td>\n",
       "      <td>0</td>\n",
       "      <td>1981</td>\n",
       "      <td>X</td>\n",
       "      <td>0</td>\n",
       "    </tr>\n",
       "    <tr>\n",
       "      <th>1</th>\n",
       "      <td>Fast Times at Ridgemont High</td>\n",
       "      <td>R</td>\n",
       "      <td>Brad's Bud</td>\n",
       "      <td>0</td>\n",
       "      <td>1982</td>\n",
       "      <td>78</td>\n",
       "      <td>27093116</td>\n",
       "    </tr>\n",
       "    <tr>\n",
       "      <th>2</th>\n",
       "      <td>Rumble Fish</td>\n",
       "      <td>R</td>\n",
       "      <td>Smokey</td>\n",
       "      <td>0</td>\n",
       "      <td>1983</td>\n",
       "      <td>74</td>\n",
       "      <td>2494480</td>\n",
       "    </tr>\n",
       "    <tr>\n",
       "      <th>3</th>\n",
       "      <td>Valley Girl</td>\n",
       "      <td>R</td>\n",
       "      <td>Randy</td>\n",
       "      <td>0</td>\n",
       "      <td>1983</td>\n",
       "      <td>83</td>\n",
       "      <td>16800000</td>\n",
       "    </tr>\n",
       "    <tr>\n",
       "      <th>4</th>\n",
       "      <td>Birdy</td>\n",
       "      <td>R</td>\n",
       "      <td>Al Columbato</td>\n",
       "      <td>0</td>\n",
       "      <td>1984</td>\n",
       "      <td>83</td>\n",
       "      <td>1400000</td>\n",
       "    </tr>\n",
       "    <tr>\n",
       "      <th>...</th>\n",
       "      <td>...</td>\n",
       "      <td>...</td>\n",
       "      <td>...</td>\n",
       "      <td>...</td>\n",
       "      <td>...</td>\n",
       "      <td>...</td>\n",
       "      <td>...</td>\n",
       "    </tr>\n",
       "    <tr>\n",
       "      <th>96</th>\n",
       "      <td>The Croods: A New Age</td>\n",
       "      <td>PG</td>\n",
       "      <td>Grug</td>\n",
       "      <td>1</td>\n",
       "      <td>2020</td>\n",
       "      <td>77</td>\n",
       "      <td>214790246</td>\n",
       "    </tr>\n",
       "    <tr>\n",
       "      <th>97</th>\n",
       "      <td>Jiu Jitsu</td>\n",
       "      <td>R</td>\n",
       "      <td>Wylie</td>\n",
       "      <td>0</td>\n",
       "      <td>2020</td>\n",
       "      <td>28</td>\n",
       "      <td>7427</td>\n",
       "    </tr>\n",
       "    <tr>\n",
       "      <th>98</th>\n",
       "      <td>Pig</td>\n",
       "      <td>R</td>\n",
       "      <td>Robin Feld</td>\n",
       "      <td>0</td>\n",
       "      <td>2021</td>\n",
       "      <td>97</td>\n",
       "      <td>3875079</td>\n",
       "    </tr>\n",
       "    <tr>\n",
       "      <th>99</th>\n",
       "      <td>Willy's Wonderland</td>\n",
       "      <td>NR</td>\n",
       "      <td>The Janitor</td>\n",
       "      <td>0</td>\n",
       "      <td>2021</td>\n",
       "      <td>61</td>\n",
       "      <td>430445</td>\n",
       "    </tr>\n",
       "    <tr>\n",
       "      <th>100</th>\n",
       "      <td>Prisoners of the Ghostland</td>\n",
       "      <td>NR</td>\n",
       "      <td>Hero</td>\n",
       "      <td>0</td>\n",
       "      <td>2021</td>\n",
       "      <td>62</td>\n",
       "      <td>71456</td>\n",
       "    </tr>\n",
       "  </tbody>\n",
       "</table>\n",
       "<p>101 rows × 7 columns</p>\n",
       "</div>"
      ],
      "text/plain": [
       "                            Movie Rating     Character  Voice  Year  \\\n",
       "0               The Best of Times  TV-NR      Nicholas      0  1981   \n",
       "1    Fast Times at Ridgemont High      R    Brad's Bud      0  1982   \n",
       "2                     Rumble Fish      R        Smokey      0  1983   \n",
       "3                     Valley Girl      R         Randy      0  1983   \n",
       "4                           Birdy      R  Al Columbato      0  1984   \n",
       "..                            ...    ...           ...    ...   ...   \n",
       "96          The Croods: A New Age     PG          Grug      1  2020   \n",
       "97                      Jiu Jitsu      R         Wylie      0  2020   \n",
       "98                            Pig      R    Robin Feld      0  2021   \n",
       "99             Willy's Wonderland     NR   The Janitor      0  2021   \n",
       "100    Prisoners of the Ghostland     NR          Hero      0  2021   \n",
       "\n",
       "    RottenTomatoes   Earnings  \n",
       "0                X          0  \n",
       "1               78   27093116  \n",
       "2               74    2494480  \n",
       "3               83   16800000  \n",
       "4               83    1400000  \n",
       "..             ...        ...  \n",
       "96              77  214790246  \n",
       "97              28       7427  \n",
       "98              97    3875079  \n",
       "99              61     430445  \n",
       "100             62      71456  \n",
       "\n",
       "[101 rows x 7 columns]"
      ]
     },
     "execution_count": 4,
     "metadata": {},
     "output_type": "execute_result"
    }
   ],
   "source": [
    "nic"
   ]
  },
  {
   "cell_type": "code",
   "execution_count": 5,
   "id": "1921ef15-7b5f-4432-8028-20019c765f79",
   "metadata": {},
   "outputs": [
    {
     "name": "stdout",
     "output_type": "stream",
     "text": [
      "<class 'pandas.core.frame.DataFrame'>\n",
      "RangeIndex: 101 entries, 0 to 100\n",
      "Data columns (total 7 columns):\n",
      " #   Column          Non-Null Count  Dtype \n",
      "---  ------          --------------  ----- \n",
      " 0   Movie           101 non-null    object\n",
      " 1   Rating          101 non-null    object\n",
      " 2   Character       101 non-null    object\n",
      " 3   Voice           101 non-null    int64 \n",
      " 4   Year            101 non-null    int64 \n",
      " 5   RottenTomatoes  101 non-null    object\n",
      " 6   Earnings        101 non-null    int64 \n",
      "dtypes: int64(3), object(4)\n",
      "memory usage: 5.6+ KB\n"
     ]
    }
   ],
   "source": [
    "nic.info()"
   ]
  },
  {
   "cell_type": "markdown",
   "id": "11a577f2-78da-44ed-a91c-0f5f67937058",
   "metadata": {},
   "source": [
    "#### Prepare\n",
    "\n",
    "My prepare phase included manually assigning a genre to each film as a feature and enumerating Genre and Rating. Within RottenTomatoes, my missing values are identified as 'X' rather than nulls, so I also dropped those values and converted RottenTomatoes to a float.\n",
    "\n",
    "Functions called:\n",
    " - assigne_genre(Movie)\n",
    " - prep_nic(df)"
   ]
  },
  {
   "cell_type": "code",
   "execution_count": 6,
   "id": "df493769-fcb3-46c2-a893-8eda457c212e",
   "metadata": {},
   "outputs": [
    {
     "data": {
      "text/html": [
       "<div>\n",
       "<style scoped>\n",
       "    .dataframe tbody tr th:only-of-type {\n",
       "        vertical-align: middle;\n",
       "    }\n",
       "\n",
       "    .dataframe tbody tr th {\n",
       "        vertical-align: top;\n",
       "    }\n",
       "\n",
       "    .dataframe thead th {\n",
       "        text-align: right;\n",
       "    }\n",
       "</style>\n",
       "<table border=\"1\" class=\"dataframe\">\n",
       "  <thead>\n",
       "    <tr style=\"text-align: right;\">\n",
       "      <th></th>\n",
       "      <th>Movie</th>\n",
       "      <th>Rating</th>\n",
       "      <th>Character</th>\n",
       "      <th>Voice</th>\n",
       "      <th>Year</th>\n",
       "      <th>RottenTomatoes</th>\n",
       "      <th>Earnings</th>\n",
       "    </tr>\n",
       "  </thead>\n",
       "  <tbody>\n",
       "    <tr>\n",
       "      <th>0</th>\n",
       "      <td>The Best of Times</td>\n",
       "      <td>TV-NR</td>\n",
       "      <td>Nicholas</td>\n",
       "      <td>0</td>\n",
       "      <td>1981</td>\n",
       "      <td>X</td>\n",
       "      <td>0</td>\n",
       "    </tr>\n",
       "    <tr>\n",
       "      <th>13</th>\n",
       "      <td>Never on Tuesday</td>\n",
       "      <td>R</td>\n",
       "      <td>Man in Red Sports Car</td>\n",
       "      <td>0</td>\n",
       "      <td>1989</td>\n",
       "      <td>X</td>\n",
       "      <td>0</td>\n",
       "    </tr>\n",
       "    <tr>\n",
       "      <th>14</th>\n",
       "      <td>Industrial Symphony No. 1: The Dream of the Br...</td>\n",
       "      <td>TV-NR</td>\n",
       "      <td>Heartbreaker</td>\n",
       "      <td>0</td>\n",
       "      <td>1990</td>\n",
       "      <td>X</td>\n",
       "      <td>0</td>\n",
       "    </tr>\n",
       "    <tr>\n",
       "      <th>82</th>\n",
       "      <td>Vengeance: A Love Story</td>\n",
       "      <td>TV-MA</td>\n",
       "      <td>John</td>\n",
       "      <td>0</td>\n",
       "      <td>2017</td>\n",
       "      <td>X</td>\n",
       "      <td>73270</td>\n",
       "    </tr>\n",
       "    <tr>\n",
       "      <th>92</th>\n",
       "      <td>Kill Chain</td>\n",
       "      <td>R</td>\n",
       "      <td>Ara–a</td>\n",
       "      <td>0</td>\n",
       "      <td>2019</td>\n",
       "      <td>X</td>\n",
       "      <td>12787</td>\n",
       "    </tr>\n",
       "  </tbody>\n",
       "</table>\n",
       "</div>"
      ],
      "text/plain": [
       "                                                Movie Rating  \\\n",
       "0                                   The Best of Times  TV-NR   \n",
       "13                                   Never on Tuesday      R   \n",
       "14  Industrial Symphony No. 1: The Dream of the Br...  TV-NR   \n",
       "82                            Vengeance: A Love Story  TV-MA   \n",
       "92                                         Kill Chain      R   \n",
       "\n",
       "                Character  Voice  Year RottenTomatoes  Earnings  \n",
       "0                Nicholas      0  1981              X         0  \n",
       "13  Man in Red Sports Car      0  1989              X         0  \n",
       "14           Heartbreaker      0  1990              X         0  \n",
       "82                   John      0  2017              X     73270  \n",
       "92                  Ara–a      0  2019              X     12787  "
      ]
     },
     "execution_count": 6,
     "metadata": {},
     "output_type": "execute_result"
    }
   ],
   "source": [
    "nic[nic.RottenTomatoes == 'X']"
   ]
  },
  {
   "cell_type": "code",
   "execution_count": 7,
   "id": "1fbcae2e-fcaa-4384-bd19-8a8312ad8daa",
   "metadata": {},
   "outputs": [
    {
     "data": {
      "text/plain": [
       "0                 The Best of Times\n",
       "1      Fast Times at Ridgemont High\n",
       "2                       Rumble Fish\n",
       "3                       Valley Girl\n",
       "4                             Birdy\n",
       "                   ...             \n",
       "96            The Croods: A New Age\n",
       "97                        Jiu Jitsu\n",
       "98                              Pig\n",
       "99               Willy's Wonderland\n",
       "100      Prisoners of the Ghostland\n",
       "Name: Movie, Length: 101, dtype: object"
      ]
     },
     "execution_count": 7,
     "metadata": {},
     "output_type": "execute_result"
    }
   ],
   "source": [
    "nic['Movie']"
   ]
  },
  {
   "cell_type": "code",
   "execution_count": 8,
   "id": "2f8e31b0-0f6f-411b-8f75-93393d76ceff",
   "metadata": {},
   "outputs": [],
   "source": [
    "def assign_genre(Movie):\n",
    "    \"\"\" This ridiculously long function classifies each of Mr. Cage's timeless works according to \n",
    "    genre.\"\"\"\n",
    "    if 'Drive Angry' in Movie:\n",
    "        return 'Action'\n",
    "    elif 'Gone in 60 Seconds' in Movie:\n",
    "        return 'Action'\n",
    "    elif 'Dying of the Light' in Movie:\n",
    "        return 'Action'\n",
    "    elif 'Face/Off' in Movie:\n",
    "        return 'Action'\n",
    "    elif 'Ghost Rider' in Movie:\n",
    "        return 'Action'\n",
    "    elif 'Ghost Rider: Spirit of Vengeance' in Movie:\n",
    "        return 'Action'\n",
    "    elif 'The Rock' in Movie:\n",
    "        return 'Action'\n",
    "    elif \"Captain Corelli's Mandolin\" in Movie:\n",
    "        return 'Action'\n",
    "    elif \"Snake Eyes\" in Movie:\n",
    "        return 'Action'\n",
    "    elif 'Kiss of Death' in Movie:\n",
    "        return 'Action'\n",
    "    elif 'Deadfall' in Movie:\n",
    "        return 'Action'\n",
    "    elif 'Left Behind' in Movie:\n",
    "        return 'Action'\n",
    "    elif 'Gone in Sixty Seconds' in Movie:\n",
    "        return 'Action'\n",
    "    elif 'Jiu Jitsu' in Movie:\n",
    "        return 'Action'\n",
    "    elif 'Outcast' in Movie:\n",
    "        return 'Action'\n",
    "    elif 'Leaving Las Vegas' in Movie:\n",
    "        return 'Drama'\n",
    "    elif 'Raising Arizona' in Movie:\n",
    "        return 'Drama'\n",
    "    elif 'Adaptation' in Movie:\n",
    "        return 'Drama'\n",
    "    elif 'Birdy' in Movie:\n",
    "        return 'Drama'\n",
    "    elif 'Pig' in Movie:\n",
    "        return 'Drama'\n",
    "    elif 'Rumble Fish' in Movie:\n",
    "        return 'Drama'\n",
    "    elif 'Moonstruck' in Movie:\n",
    "        return 'Drama'\n",
    "    elif 'Bringing Out the Dead' in Movie:\n",
    "        return 'Drama'\n",
    "    elif 'Wild at Heart' in Movie:\n",
    "        return 'Drama'\n",
    "    elif 'Sonny' in Movie:\n",
    "        return 'Drama'\n",
    "    elif 'Never on Tuesday' in Movie:\n",
    "        return 'Drama'\n",
    "    elif 'World Trade Center' in Movie:\n",
    "        return 'Drama'\n",
    "    elif 'Zandalee' in Movie:\n",
    "        return 'Drama'\n",
    "    elif 'The Boy in Blue' in Movie:\n",
    "        return 'Drama'\n",
    "    elif 'Matchstick Men' in Movie:\n",
    "        return 'Action'\n",
    "    elif 'Kick-Ass' in Movie:\n",
    "        return 'Action'\n",
    "    elif 'Arsenal' in Movie:\n",
    "        return 'Action'\n",
    "    elif 'Lord of War' in Movie:\n",
    "        return 'Drama'\n",
    "    elif 'Inconceivable' in Movie:\n",
    "        return 'Drama'\n",
    "    elif 'City of Angels' in Movie:\n",
    "        return 'Drama'\n",
    "    elif 'Red Rock West' in Movie:\n",
    "        return 'Drama'\n",
    "    elif 'The Weather Man' in Movie:\n",
    "        return 'Drama'\n",
    "    elif 'Racing with the Moon' in Movie:\n",
    "        return 'Drama'\n",
    "    elif 'The Runner' in Movie:\n",
    "        return 'Drama'\n",
    "    elif 'Red Rock West' in Movie:\n",
    "        return 'Thriller'\n",
    "    elif 'Time to Kill' in Movie:\n",
    "        return 'Thriller'\n",
    "    elif '8MM' in Movie:\n",
    "        return 'Thriller'\n",
    "    elif 'The Trust' in Movie:\n",
    "        return 'Thriller'\n",
    "    elif 'The Frozen Ground' in Movie:\n",
    "        return 'Thriller'\n",
    "    elif 'Vengeance: A Love Story' in Movie:\n",
    "        return 'Thriller'\n",
    "    elif 'The Trust' in Movie:\n",
    "        return 'Thriller'\n",
    "    elif 'Seeking Justice' in Movie:\n",
    "        return 'Thriller'\n",
    "    elif 'Snake Eyes' in Movie:\n",
    "        return 'Thriller'\n",
    "    elif 'Stolen' in Movie:\n",
    "        return 'Thriller'\n",
    "    elif 'Trespass' in Movie:\n",
    "        return 'Thriller'\n",
    "    elif 'Windtalkers' in Movie:\n",
    "        return 'Thriller'\n",
    "    elif 'Grand Isle' in Movie:\n",
    "        return 'Thriller'\n",
    "    elif 'Primal' in Movie:\n",
    "        return 'Thriller'\n",
    "    elif 'Kill Chain' in Movie:\n",
    "        return 'Thriller'\n",
    "    elif 'Bangkok Dangerous' in Movie:\n",
    "        return 'Action'\n",
    "    elif 'Antigang' in Movie:\n",
    "        return 'Thriller'\n",
    "    elif 'Running with the Devil' in Movie:\n",
    "        return 'Thriller'\n",
    "    elif 'A Score to Settle' in Movie:\n",
    "        return 'Thriller'\n",
    "    elif 'Between Worlds' in Movie:\n",
    "        return 'Thriller'\n",
    "    elif 'Snowden' in Movie:\n",
    "        return 'Thriller'\n",
    "    elif 'Con Air' in Movie:\n",
    "        return 'Thriller'\n",
    "    elif 'Looking Glass' in Movie:\n",
    "        return 'Thriller'\n",
    "    elif 'Joe' in Movie:\n",
    "        return 'Thriller'\n",
    "    elif 'Dog Eat Dog' in Movie:\n",
    "        return 'Thriller'\n",
    "    elif 'Tokarev' in Movie:\n",
    "        return 'Thriller'\n",
    "    elif 'Next' in Movie:\n",
    "        return 'Sci/Fi'\n",
    "    elif 'Knowing' in Movie:\n",
    "        return 'Sci/Fi'\n",
    "    elif 'Color Out of Space' in Movie:\n",
    "        return 'Sci/Fi'\n",
    "    elif 'Pay the Ghost' in Movie:\n",
    "        return 'Sci/Fi'\n",
    "    elif 'Next' in Movie:\n",
    "        return 'Sci/Fi'\n",
    "    elif 'Season of the Witch' in Movie:\n",
    "        return 'Sci/Fi'\n",
    "    elif 'The Humanity Bureau' in Movie:\n",
    "        return 'Sci/Fi'\n",
    "    elif \"Willy's Wonderland\" in Movie:\n",
    "        return 'Horror'\n",
    "    elif 'Prisoners of the Ghostland' in Movie:\n",
    "        return 'Horror'\n",
    "    elif 'Grindhouse' in Movie:\n",
    "        return 'Horror'\n",
    "    elif \"Mandy\" in Movie:\n",
    "        return 'Horror'\n",
    "    elif 'Mom and Dad' in Movie:\n",
    "        return 'Horror'\n",
    "    elif 'Pay the Ghost' in Movie:\n",
    "        return 'Horror'\n",
    "    elif 'The Wicker Man' in Movie:\n",
    "        return 'Horror'\n",
    "    elif 'National Treasure' in Movie:\n",
    "        return 'Family'\n",
    "    elif 'National Treasure: Book of Secrets' in Movie:\n",
    "        return 'Family'\n",
    "    elif 'The Croods' in Movie:\n",
    "        return 'Family'\n",
    "    elif 'The Croods: A New Age' in Movie:\n",
    "        return 'Family'\n",
    "    elif \"The Sorceror's Apprentice\" in Movie:\n",
    "        return 'Family'\n",
    "    elif 'Spider-Man: Into the Spider-Verse' in Movie:\n",
    "        return 'Family'\n",
    "    elif 'Teen Titans Go! To the Movies' in Movie:\n",
    "        return 'Family'\n",
    "    elif 'Astro Boy' in Movie:\n",
    "        return 'Family'\n",
    "    elif 'G-Force' in Movie:\n",
    "        return 'Family'\n",
    "    elif 'The Ant Bully' in Movie:\n",
    "        return 'Family'\n",
    "    elif 'Christmas Carol: The Movie' in Movie:\n",
    "        return 'Family'\n",
    "    elif 'Moonstruck' in Movie:\n",
    "        return 'RomCom'\n",
    "    elif 'Trapped in Paradise' in Movie:\n",
    "        return 'RomCom'\n",
    "    elif 'It Could Happen to You' in Movie:\n",
    "        return 'RomCom'\n",
    "    elif 'Peggy Sue Got Married' in Movie:\n",
    "        return 'RomCom'\n",
    "    elif 'Honeymoon in Vegas' in Movie:\n",
    "        return 'RomCom'\n",
    "    elif 'Valley Girl' in Movie:\n",
    "        return 'RomCom'\n",
    "    elif 'City of Angels' in Movie:\n",
    "        return 'RomCom'\n",
    "    elif 'The Family Man' in Movie:\n",
    "        return 'RomCom'\n",
    "    elif 'Fast Times at Ridgemont High' in Movie:\n",
    "        return 'RomCom'\n",
    "    elif 'Windtalkers' in Movie:\n",
    "        return 'War'\n",
    "    elif 'USS Indianapolis: Men of Courage' in Movie:\n",
    "        return 'War'\n",
    "    elif 'Fire Birds' in Movie:\n",
    "        return 'War'\n",
    "    elif 'Industrial Symphony No. 1: The Dream of the Brokenhearted' in Movie:\n",
    "        return 'Music'\n",
    "    elif 'The Best of Times' in Movie:\n",
    "        return 'Comedy'\n",
    "    elif 'Amos and Andrew' in Movie:\n",
    "        return 'Comedy'\n",
    "    elif 'Guarding Tess' in Movie:\n",
    "        return 'Comedy'\n",
    "    elif \"Vampire's Kiss\" in Movie:\n",
    "        return 'Comedy'\n",
    "    elif 'Army of One' in Movie:\n",
    "        return 'Comedy'\n",
    "    elif 'Bad Lieutenant: Port of Call New Orleans' in Movie:\n",
    "        return 'Crime'\n",
    "    elif 'The Cotton Club' in Movie:\n",
    "        return 'Crime'\n",
    "    elif '211' in Movie:\n",
    "        return 'Crime' \n",
    "    else:\n",
    "        return 'Unknown'\n",
    "   "
   ]
  },
  {
   "cell_type": "code",
   "execution_count": 9,
   "id": "4488996a-3fad-429a-837c-701c8e76d80f",
   "metadata": {},
   "outputs": [
    {
     "data": {
      "text/html": [
       "<div>\n",
       "<style scoped>\n",
       "    .dataframe tbody tr th:only-of-type {\n",
       "        vertical-align: middle;\n",
       "    }\n",
       "\n",
       "    .dataframe tbody tr th {\n",
       "        vertical-align: top;\n",
       "    }\n",
       "\n",
       "    .dataframe thead th {\n",
       "        text-align: right;\n",
       "    }\n",
       "</style>\n",
       "<table border=\"1\" class=\"dataframe\">\n",
       "  <thead>\n",
       "    <tr style=\"text-align: right;\">\n",
       "      <th></th>\n",
       "      <th>Movie</th>\n",
       "      <th>Rating</th>\n",
       "      <th>Character</th>\n",
       "      <th>Voice</th>\n",
       "      <th>Year</th>\n",
       "      <th>RottenTomatoes</th>\n",
       "      <th>Earnings</th>\n",
       "      <th>Genre</th>\n",
       "    </tr>\n",
       "  </thead>\n",
       "  <tbody>\n",
       "    <tr>\n",
       "      <th>0</th>\n",
       "      <td>The Best of Times</td>\n",
       "      <td>TV-NR</td>\n",
       "      <td>Nicholas</td>\n",
       "      <td>0</td>\n",
       "      <td>1981</td>\n",
       "      <td>X</td>\n",
       "      <td>0</td>\n",
       "      <td>Comedy</td>\n",
       "    </tr>\n",
       "    <tr>\n",
       "      <th>1</th>\n",
       "      <td>Fast Times at Ridgemont High</td>\n",
       "      <td>R</td>\n",
       "      <td>Brad's Bud</td>\n",
       "      <td>0</td>\n",
       "      <td>1982</td>\n",
       "      <td>78</td>\n",
       "      <td>27093116</td>\n",
       "      <td>RomCom</td>\n",
       "    </tr>\n",
       "    <tr>\n",
       "      <th>2</th>\n",
       "      <td>Rumble Fish</td>\n",
       "      <td>R</td>\n",
       "      <td>Smokey</td>\n",
       "      <td>0</td>\n",
       "      <td>1983</td>\n",
       "      <td>74</td>\n",
       "      <td>2494480</td>\n",
       "      <td>Drama</td>\n",
       "    </tr>\n",
       "  </tbody>\n",
       "</table>\n",
       "</div>"
      ],
      "text/plain": [
       "                          Movie Rating   Character  Voice  Year  \\\n",
       "0             The Best of Times  TV-NR    Nicholas      0  1981   \n",
       "1  Fast Times at Ridgemont High      R  Brad's Bud      0  1982   \n",
       "2                   Rumble Fish      R      Smokey      0  1983   \n",
       "\n",
       "  RottenTomatoes  Earnings   Genre  \n",
       "0              X         0  Comedy  \n",
       "1             78  27093116  RomCom  \n",
       "2             74   2494480   Drama  "
      ]
     },
     "execution_count": 9,
     "metadata": {},
     "output_type": "execute_result"
    }
   ],
   "source": [
    "nic['Genre'] = nic['Movie'].apply(assign_genre)\n",
    "nic.head(3)"
   ]
  },
  {
   "cell_type": "code",
   "execution_count": 10,
   "id": "980ebbd8-5f4b-42b7-9caf-6a3b11c889ed",
   "metadata": {},
   "outputs": [],
   "source": [
    "nic = wr.prep_nic(nic)"
   ]
  },
  {
   "cell_type": "code",
   "execution_count": 11,
   "id": "801f1d65-1386-4769-9469-88632343bdc7",
   "metadata": {},
   "outputs": [
    {
     "data": {
      "text/html": [
       "<div>\n",
       "<style scoped>\n",
       "    .dataframe tbody tr th:only-of-type {\n",
       "        vertical-align: middle;\n",
       "    }\n",
       "\n",
       "    .dataframe tbody tr th {\n",
       "        vertical-align: top;\n",
       "    }\n",
       "\n",
       "    .dataframe thead th {\n",
       "        text-align: right;\n",
       "    }\n",
       "</style>\n",
       "<table border=\"1\" class=\"dataframe\">\n",
       "  <thead>\n",
       "    <tr style=\"text-align: right;\">\n",
       "      <th></th>\n",
       "      <th>Movie</th>\n",
       "      <th>Rating</th>\n",
       "      <th>Character</th>\n",
       "      <th>Voice</th>\n",
       "      <th>Year</th>\n",
       "      <th>RottenTomatoes</th>\n",
       "      <th>Earnings</th>\n",
       "      <th>Genre</th>\n",
       "      <th>Rating_num</th>\n",
       "      <th>Genre_num</th>\n",
       "    </tr>\n",
       "  </thead>\n",
       "  <tbody>\n",
       "    <tr>\n",
       "      <th>0</th>\n",
       "      <td>The Best of Times</td>\n",
       "      <td>TV-NR</td>\n",
       "      <td>Nicholas</td>\n",
       "      <td>0</td>\n",
       "      <td>1981</td>\n",
       "      <td>NaN</td>\n",
       "      <td>0</td>\n",
       "      <td>Comedy</td>\n",
       "      <td>4</td>\n",
       "      <td>8</td>\n",
       "    </tr>\n",
       "    <tr>\n",
       "      <th>1</th>\n",
       "      <td>Fast Times at Ridgemont High</td>\n",
       "      <td>R</td>\n",
       "      <td>Brad's Bud</td>\n",
       "      <td>0</td>\n",
       "      <td>1982</td>\n",
       "      <td>78.0</td>\n",
       "      <td>27093116</td>\n",
       "      <td>RomCom</td>\n",
       "      <td>3</td>\n",
       "      <td>5</td>\n",
       "    </tr>\n",
       "    <tr>\n",
       "      <th>2</th>\n",
       "      <td>Rumble Fish</td>\n",
       "      <td>R</td>\n",
       "      <td>Smokey</td>\n",
       "      <td>0</td>\n",
       "      <td>1983</td>\n",
       "      <td>74.0</td>\n",
       "      <td>2494480</td>\n",
       "      <td>Drama</td>\n",
       "      <td>3</td>\n",
       "      <td>1</td>\n",
       "    </tr>\n",
       "  </tbody>\n",
       "</table>\n",
       "</div>"
      ],
      "text/plain": [
       "                          Movie Rating   Character  Voice  Year  \\\n",
       "0             The Best of Times  TV-NR    Nicholas      0  1981   \n",
       "1  Fast Times at Ridgemont High      R  Brad's Bud      0  1982   \n",
       "2                   Rumble Fish      R      Smokey      0  1983   \n",
       "\n",
       "   RottenTomatoes  Earnings   Genre  Rating_num  Genre_num  \n",
       "0             NaN         0  Comedy           4          8  \n",
       "1            78.0  27093116  RomCom           3          5  \n",
       "2            74.0   2494480   Drama           3          1  "
      ]
     },
     "execution_count": 11,
     "metadata": {},
     "output_type": "execute_result"
    }
   ],
   "source": [
    "nic.head(3)"
   ]
  },
  {
   "cell_type": "markdown",
   "id": "4d96bbac-e304-401e-b38b-3ae1f5fdaadf",
   "metadata": {},
   "source": [
    "#### Exploration\n",
    "\n",
    "Let's take a look at the distribution of Cage's films. To generate these visualizations, I ran my prep function so that my earnings and genres would be included. Then, I downloaded that dataframe as a csv to use in Tableau."
   ]
  },
  {
   "cell_type": "code",
   "execution_count": 12,
   "id": "e8cd1a81-2d8a-4adc-a0be-f9919296280c",
   "metadata": {},
   "outputs": [
    {
     "data": {
      "text/html": [
       "<div class='tableauPlaceholder' id='viz1684411362285' style='position: relative'><noscript><a href='#'><img alt='Earnings by Maturity Rating for Nicholas Cage Films  ' src='https:&#47;&#47;public.tableau.com&#47;static&#47;images&#47;ni&#47;nic_cage&#47;earnings_rating&#47;1_rss.png' style='border: none' /></a></noscript><object class='tableauViz'  style='display:none;'><param name='host_url' value='https%3A%2F%2Fpublic.tableau.com%2F' /> <param name='embed_code_version' value='3' /> <param name='site_root' value='' /><param name='name' value='nic_cage&#47;earnings_rating' /><param name='tabs' value='no' /><param name='toolbar' value='yes' /><param name='static_image' value='https:&#47;&#47;public.tableau.com&#47;static&#47;images&#47;ni&#47;nic_cage&#47;earnings_rating&#47;1.png' /> <param name='animate_transition' value='yes' /><param name='display_static_image' value='yes' /><param name='display_spinner' value='yes' /><param name='display_overlay' value='yes' /><param name='display_count' value='yes' /><param name='language' value='en-US' /><param name='filter' value='publish=yes' /><param name='ignore_sticky_session' value='yes' /></object></div>                <script type='text/javascript'>                    var divElement = document.getElementById('viz1684411362285');                    var vizElement = divElement.getElementsByTagName('object')[0];                    vizElement.style.width='100%';vizElement.style.height=(divElement.offsetWidth*0.75)+'px';                    var scriptElement = document.createElement('script');                    scriptElement.src = 'https://public.tableau.com/javascripts/api/viz_v1.js';                    vizElement.parentNode.insertBefore(scriptElement, vizElement);                </script>\n"
      ],
      "text/plain": [
       "<IPython.core.display.HTML object>"
      ]
     },
     "metadata": {},
     "output_type": "display_data"
    }
   ],
   "source": [
    "%%html\n",
    "<div class='tableauPlaceholder' id='viz1684411362285' style='position: relative'><noscript><a href='#'><img alt='Earnings by Maturity Rating for Nicholas Cage Films  ' src='https:&#47;&#47;public.tableau.com&#47;static&#47;images&#47;ni&#47;nic_cage&#47;earnings_rating&#47;1_rss.png' style='border: none' /></a></noscript><object class='tableauViz'  style='display:none;'><param name='host_url' value='https%3A%2F%2Fpublic.tableau.com%2F' /> <param name='embed_code_version' value='3' /> <param name='site_root' value='' /><param name='name' value='nic_cage&#47;earnings_rating' /><param name='tabs' value='no' /><param name='toolbar' value='yes' /><param name='static_image' value='https:&#47;&#47;public.tableau.com&#47;static&#47;images&#47;ni&#47;nic_cage&#47;earnings_rating&#47;1.png' /> <param name='animate_transition' value='yes' /><param name='display_static_image' value='yes' /><param name='display_spinner' value='yes' /><param name='display_overlay' value='yes' /><param name='display_count' value='yes' /><param name='language' value='en-US' /><param name='filter' value='publish=yes' /><param name='ignore_sticky_session' value='yes' /></object></div>                <script type='text/javascript'>                    var divElement = document.getElementById('viz1684411362285');                    var vizElement = divElement.getElementsByTagName('object')[0];                    vizElement.style.width='100%';vizElement.style.height=(divElement.offsetWidth*0.75)+'px';                    var scriptElement = document.createElement('script');                    scriptElement.src = 'https://public.tableau.com/javascripts/api/viz_v1.js';                    vizElement.parentNode.insertBefore(scriptElement, vizElement);                </script>"
   ]
  },
  {
   "cell_type": "code",
   "execution_count": 13,
   "id": "8b72b179-08a1-4ab4-bfc2-7fca68aae169",
   "metadata": {},
   "outputs": [
    {
     "data": {
      "text/html": [
       "<div class='tableauPlaceholder' id='viz1684413139649' style='position: relative'><noscript><a href='#'><img alt='Total Revenue For Nicolas Cage Films By Genre ' src='https:&#47;&#47;public.tableau.com&#47;static&#47;images&#47;ni&#47;nic_cage_earnings_genre&#47;earnings_genre&#47;1_rss.png' style='border: none' /></a></noscript><object class='tableauViz'  style='display:none;'><param name='host_url' value='https%3A%2F%2Fpublic.tableau.com%2F' /> <param name='embed_code_version' value='3' /> <param name='site_root' value='' /><param name='name' value='nic_cage_earnings_genre&#47;earnings_genre' /><param name='tabs' value='no' /><param name='toolbar' value='yes' /><param name='static_image' value='https:&#47;&#47;public.tableau.com&#47;static&#47;images&#47;ni&#47;nic_cage_earnings_genre&#47;earnings_genre&#47;1.png' /> <param name='animate_transition' value='yes' /><param name='display_static_image' value='yes' /><param name='display_spinner' value='yes' /><param name='display_overlay' value='yes' /><param name='display_count' value='yes' /><param name='language' value='en-US' /></object></div>                <script type='text/javascript'>                    var divElement = document.getElementById('viz1684413139649');                    var vizElement = divElement.getElementsByTagName('object')[0];                    vizElement.style.width='100%';vizElement.style.height=(divElement.offsetWidth*0.75)+'px';                    var scriptElement = document.createElement('script');                    scriptElement.src = 'https://public.tableau.com/javascripts/api/viz_v1.js';                    vizElement.parentNode.insertBefore(scriptElement, vizElement);                </script>\n"
      ],
      "text/plain": [
       "<IPython.core.display.HTML object>"
      ]
     },
     "metadata": {},
     "output_type": "display_data"
    }
   ],
   "source": [
    "%%html\n",
    "<div class='tableauPlaceholder' id='viz1684413139649' style='position: relative'><noscript><a href='#'><img alt='Total Revenue For Nicolas Cage Films By Genre ' src='https:&#47;&#47;public.tableau.com&#47;static&#47;images&#47;ni&#47;nic_cage_earnings_genre&#47;earnings_genre&#47;1_rss.png' style='border: none' /></a></noscript><object class='tableauViz'  style='display:none;'><param name='host_url' value='https%3A%2F%2Fpublic.tableau.com%2F' /> <param name='embed_code_version' value='3' /> <param name='site_root' value='' /><param name='name' value='nic_cage_earnings_genre&#47;earnings_genre' /><param name='tabs' value='no' /><param name='toolbar' value='yes' /><param name='static_image' value='https:&#47;&#47;public.tableau.com&#47;static&#47;images&#47;ni&#47;nic_cage_earnings_genre&#47;earnings_genre&#47;1.png' /> <param name='animate_transition' value='yes' /><param name='display_static_image' value='yes' /><param name='display_spinner' value='yes' /><param name='display_overlay' value='yes' /><param name='display_count' value='yes' /><param name='language' value='en-US' /></object></div>                <script type='text/javascript'>                    var divElement = document.getElementById('viz1684413139649');                    var vizElement = divElement.getElementsByTagName('object')[0];                    vizElement.style.width='100%';vizElement.style.height=(divElement.offsetWidth*0.75)+'px';                    var scriptElement = document.createElement('script');                    scriptElement.src = 'https://public.tableau.com/javascripts/api/viz_v1.js';                    vizElement.parentNode.insertBefore(scriptElement, vizElement);                </script>"
   ]
  },
  {
   "cell_type": "markdown",
   "id": "e72c901d-b56e-4ebb-baa0-889a8a2ecf3d",
   "metadata": {},
   "source": [
    "Surprisingly, although he's only done a few of them, it looks like Family friendly films are Cage's highest grossing projects!"
   ]
  },
  {
   "cell_type": "markdown",
   "id": "5337f1fc-03dd-4092-b138-4e34c346526a",
   "metadata": {},
   "source": [
    "#### Statistical Analysis"
   ]
  },
  {
   "cell_type": "markdown",
   "id": "3232c215-2d4e-43d9-ba03-0a79ab2bd46d",
   "metadata": {},
   "source": [
    "**Question 1**\n",
    "\n",
    "Which genre brings an average of higher ratings for Nicky, thrillers or dramas?\n",
    "\n",
    "Null Hypothesis: Nic Cage Dramas do not have higher ratings than his thrillers.\n",
    "\n",
    "Hypothesis: Nic Cage Dramas have higher ratings than his thrillers."
   ]
  },
  {
   "cell_type": "code",
   "execution_count": 28,
   "id": "6963cb21-918d-47fd-92a3-54e97b91f2f7",
   "metadata": {},
   "outputs": [
    {
     "data": {
      "text/plain": [
       "Text(0.5, 1.0, 'Distribution of RottenTomatoes Ratings for Nic Cage Dramas')"
      ]
     },
     "execution_count": 28,
     "metadata": {},
     "output_type": "execute_result"
    },
    {
     "data": {
      "image/png": "[encoded data removed]",
      "text/plain": [
       "<Figure size 640x480 with 1 Axes>"
      ]
     },
     "metadata": {},
     "output_type": "display_data"
    }
   ],
   "source": [
    "# Distribution Viz\n",
    "dramatom = nic[nic.Genre == 'Drama'].RottenTomatoes\n",
    "ax = plt.axes()\n",
    "ax.set_facecolor(\"mistyrose\")\n",
    "ax.ticklabel_format(style='plain')\n",
    "# plt.style.use('seaborn-deep')\n",
    "plt.hist(dramatom, color = \"lightblue\", ec=\"grey\")\n",
    "plt.xlabel('Rotten Tomato Scores')\n",
    "plt.ylabel('Count')\n",
    "plt.title('Distribution of RottenTomatoes Ratings for Nic Cage Dramas')"
   ]
  },
  {
   "cell_type": "code",
   "execution_count": 15,
   "id": "345e6697-8f3b-4ddb-b61a-2119abc156d4",
   "metadata": {},
   "outputs": [
    {
     "data": {
      "text/plain": [
       "20"
      ]
     },
     "execution_count": 15,
     "metadata": {},
     "output_type": "execute_result"
    }
   ],
   "source": [
    "nic[nic.Genre=='Drama'].value_counts().sum()"
   ]
  },
  {
   "cell_type": "code",
   "execution_count": 30,
   "id": "38b67b40-79bd-4a5a-91d1-737edb156134",
   "metadata": {},
   "outputs": [
    {
     "data": {
      "text/plain": [
       "Text(0.5, 1.0, 'Distribution of RottenTomatoes Ratings for Nic Cage Thrillers')"
      ]
     },
     "execution_count": 30,
     "metadata": {},
     "output_type": "execute_result"
    },
    {
     "data": {
      "image/png": "[encoded data removed]",
      "text/plain": [
       "<Figure size 640x480 with 1 Axes>"
      ]
     },
     "metadata": {},
     "output_type": "display_data"
    }
   ],
   "source": [
    "thrilltom= nic[nic.Genre == 'Thriller'].RottenTomatoes\n",
    "ax = plt.axes()\n",
    "ax.set_facecolor(\"mistyrose\")\n",
    "ax.ticklabel_format(style='plain')\n",
    "plt.hist(thrilltom, color = \"lightblue\", ec=\"grey\")\n",
    "plt.xlabel('Rotten Tomato Scores')\n",
    "plt.ylabel('Count')\n",
    "plt.title('Distribution of RottenTomatoes Ratings for Nic Cage Thrillers')"
   ]
  },
  {
   "cell_type": "markdown",
   "id": "4d656fad-532d-4014-bb12-4d9bf497fb04",
   "metadata": {},
   "source": [
    "Note\n",
    "\n",
    "An early look at the distribution shows that Nic has some alarmingly low ratings for his thrillers! Let's see if there's equal variance between the drama ratings and thriller ratings."
   ]
  },
  {
   "cell_type": "code",
   "execution_count": 17,
   "id": "7ae35e81-d41a-497a-8373-567547b03784",
   "metadata": {},
   "outputs": [
    {
     "name": "stdout",
     "output_type": "stream",
     "text": [
      "T-statistic: 4.149\n",
      "P-value: 0.000\n",
      "We reject the null hypothesis\n"
     ]
    }
   ],
   "source": [
    "wr.genre_test(nic)"
   ]
  },
  {
   "cell_type": "markdown",
   "id": "dbdb0e22-643a-45d9-80a3-a9549083e527",
   "metadata": {},
   "source": [
    "**Question 2**\n",
    "\n",
    "Do Cage's later films get better or worse ratings than the earlier films?\n",
    "\n",
    "Null Hypothesis: Cage's films in the last decade recieve lower RT scores than his earlier works. Hypothesis: Cage's films in the last decade recieve higher RT scores than his earlier works."
   ]
  },
  {
   "cell_type": "code",
   "execution_count": 18,
   "id": "b8e714c2-f69f-4b6e-8e25-7c63d67d5384",
   "metadata": {},
   "outputs": [
    {
     "data": {
      "text/html": [
       "<div class='tableauPlaceholder' id='viz1684412271217' style='position: relative'><noscript><a href='#'><img alt='Distribution of Rotten Tomato Scores in Last Decade ' src='https:&#47;&#47;public.tableau.com&#47;static&#47;images&#47;ni&#47;nic_cage_rt_decade&#47;rt_dist2&#47;1_rss.png' style='border: none' /></a></noscript><object class='tableauViz'  style='display:none;'><param name='host_url' value='https%3A%2F%2Fpublic.tableau.com%2F' /> <param name='embed_code_version' value='3' /> <param name='site_root' value='' /><param name='name' value='nic_cage_rt_decade&#47;rt_dist2' /><param name='tabs' value='no' /><param name='toolbar' value='yes' /><param name='static_image' value='https:&#47;&#47;public.tableau.com&#47;static&#47;images&#47;ni&#47;nic_cage_rt_decade&#47;rt_dist2&#47;1.png' /> <param name='animate_transition' value='yes' /><param name='display_static_image' value='yes' /><param name='display_spinner' value='yes' /><param name='display_overlay' value='yes' /><param name='display_count' value='yes' /><param name='language' value='en-US' /><param name='filter' value='publish=yes' /></object></div>                <script type='text/javascript'>                    var divElement = document.getElementById('viz1684412271217');                    var vizElement = divElement.getElementsByTagName('object')[0];                    vizElement.style.width='100%';vizElement.style.height=(divElement.offsetWidth*0.75)+'px';                    var scriptElement = document.createElement('script');                    scriptElement.src = 'https://public.tableau.com/javascripts/api/viz_v1.js';                    vizElement.parentNode.insertBefore(scriptElement, vizElement);                </script>\n"
      ],
      "text/plain": [
       "<IPython.core.display.HTML object>"
      ]
     },
     "metadata": {},
     "output_type": "display_data"
    }
   ],
   "source": [
    "%%html\n",
    "<div class='tableauPlaceholder' id='viz1684412271217' style='position: relative'><noscript><a href='#'><img alt='Distribution of Rotten Tomato Scores in Last Decade ' src='https:&#47;&#47;public.tableau.com&#47;static&#47;images&#47;ni&#47;nic_cage_rt_decade&#47;rt_dist2&#47;1_rss.png' style='border: none' /></a></noscript><object class='tableauViz'  style='display:none;'><param name='host_url' value='https%3A%2F%2Fpublic.tableau.com%2F' /> <param name='embed_code_version' value='3' /> <param name='site_root' value='' /><param name='name' value='nic_cage_rt_decade&#47;rt_dist2' /><param name='tabs' value='no' /><param name='toolbar' value='yes' /><param name='static_image' value='https:&#47;&#47;public.tableau.com&#47;static&#47;images&#47;ni&#47;nic_cage_rt_decade&#47;rt_dist2&#47;1.png' /> <param name='animate_transition' value='yes' /><param name='display_static_image' value='yes' /><param name='display_spinner' value='yes' /><param name='display_overlay' value='yes' /><param name='display_count' value='yes' /><param name='language' value='en-US' /><param name='filter' value='publish=yes' /></object></div>                <script type='text/javascript'>                    var divElement = document.getElementById('viz1684412271217');                    var vizElement = divElement.getElementsByTagName('object')[0];                    vizElement.style.width='100%';vizElement.style.height=(divElement.offsetWidth*0.75)+'px';                    var scriptElement = document.createElement('script');                    scriptElement.src = 'https://public.tableau.com/javascripts/api/viz_v1.js';                    vizElement.parentNode.insertBefore(scriptElement, vizElement);                </script>"
   ]
  },
  {
   "cell_type": "code",
   "execution_count": 19,
   "id": "c4ea3ce3-8258-40bc-9e99-24fb19b34e66",
   "metadata": {},
   "outputs": [
    {
     "data": {
      "text/html": [
       "<div class='tableauPlaceholder' id='viz1684412378005' style='position: relative'><noscript><a href='#'><img alt='Distribution of Rotten Tomato Scores by Year(1982-2009) ' src='https:&#47;&#47;public.tableau.com&#47;static&#47;images&#47;ni&#47;nic_cage_rt_2009&#47;rt_dist_2009&#47;1_rss.png' style='border: none' /></a></noscript><object class='tableauViz'  style='display:none;'><param name='host_url' value='https%3A%2F%2Fpublic.tableau.com%2F' /> <param name='embed_code_version' value='3' /> <param name='site_root' value='' /><param name='name' value='nic_cage_rt_2009&#47;rt_dist_2009' /><param name='tabs' value='no' /><param name='toolbar' value='yes' /><param name='static_image' value='https:&#47;&#47;public.tableau.com&#47;static&#47;images&#47;ni&#47;nic_cage_rt_2009&#47;rt_dist_2009&#47;1.png' /> <param name='animate_transition' value='yes' /><param name='display_static_image' value='yes' /><param name='display_spinner' value='yes' /><param name='display_overlay' value='yes' /><param name='display_count' value='yes' /><param name='language' value='en-US' /><param name='filter' value='publish=yes' /></object></div>                <script type='text/javascript'>                    var divElement = document.getElementById('viz1684412378005');                    var vizElement = divElement.getElementsByTagName('object')[0];                    vizElement.style.width='100%';vizElement.style.height=(divElement.offsetWidth*0.75)+'px';                    var scriptElement = document.createElement('script');                    scriptElement.src = 'https://public.tableau.com/javascripts/api/viz_v1.js';                    vizElement.parentNode.insertBefore(scriptElement, vizElement);                </script>\n"
      ],
      "text/plain": [
       "<IPython.core.display.HTML object>"
      ]
     },
     "metadata": {},
     "output_type": "display_data"
    }
   ],
   "source": [
    "%%html\n",
    "<div class='tableauPlaceholder' id='viz1684412378005' style='position: relative'><noscript><a href='#'><img alt='Distribution of Rotten Tomato Scores by Year(1982-2009) ' src='https:&#47;&#47;public.tableau.com&#47;static&#47;images&#47;ni&#47;nic_cage_rt_2009&#47;rt_dist_2009&#47;1_rss.png' style='border: none' /></a></noscript><object class='tableauViz'  style='display:none;'><param name='host_url' value='https%3A%2F%2Fpublic.tableau.com%2F' /> <param name='embed_code_version' value='3' /> <param name='site_root' value='' /><param name='name' value='nic_cage_rt_2009&#47;rt_dist_2009' /><param name='tabs' value='no' /><param name='toolbar' value='yes' /><param name='static_image' value='https:&#47;&#47;public.tableau.com&#47;static&#47;images&#47;ni&#47;nic_cage_rt_2009&#47;rt_dist_2009&#47;1.png' /> <param name='animate_transition' value='yes' /><param name='display_static_image' value='yes' /><param name='display_spinner' value='yes' /><param name='display_overlay' value='yes' /><param name='display_count' value='yes' /><param name='language' value='en-US' /><param name='filter' value='publish=yes' /></object></div>                <script type='text/javascript'>                    var divElement = document.getElementById('viz1684412378005');                    var vizElement = divElement.getElementsByTagName('object')[0];                    vizElement.style.width='100%';vizElement.style.height=(divElement.offsetWidth*0.75)+'px';                    var scriptElement = document.createElement('script');                    scriptElement.src = 'https://public.tableau.com/javascripts/api/viz_v1.js';                    vizElement.parentNode.insertBefore(scriptElement, vizElement);                </script>"
   ]
  },
  {
   "cell_type": "markdown",
   "id": "ccc8af0a-c5a8-4285-b298-4610ef100eb4",
   "metadata": {},
   "source": [
    "Notes\n",
    "\n",
    "These interactive visualizations allow me to see the full distribution of RT scores. I want to know if the last decade of film making (2011-2021) have seen significant improvement in Cage's film ratings compared to his overall average score. To determine that, I need to establish a baseline mean to measure the last 10 years against."
   ]
  },
  {
   "cell_type": "code",
   "execution_count": 20,
   "id": "b687ba1f-7240-418f-bd83-96e40789f318",
   "metadata": {},
   "outputs": [
    {
     "data": {
      "image/png": "[encoded data removed]",
      "text/plain": [
       "<Figure size 640x480 with 1 Axes>"
      ]
     },
     "metadata": {},
     "output_type": "display_data"
    },
    {
     "name": "stdout",
     "output_type": "stream",
     "text": [
      "Variance of high RT Scores for last decade: 24.566666666666663\n",
      "Variance of all time high RT Scores: 20.720588235294116\n",
      "Number of Films made after 2010 with RT scores of 80 and above: 6\n",
      "Number of Films made since 1983 with RT scores of 80 and above: 17\n",
      "Average High RT score for post-2010 films: 91.17\n",
      "Average High RT score for all films: 88.71\n",
      "Average Rotten Tomato Score for post-2010 films: 42.05714285714286\n",
      "Average Rotten Tomato Score for all films: 47.31578947368421\n"
     ]
    }
   ],
   "source": [
    "wr.high_rt_chart(nic)\n",
    "wr.question_3(nic)"
   ]
  },
  {
   "cell_type": "markdown",
   "id": "0327defe-7246-48a6-81af-92a2cfcfbc2e",
   "metadata": {},
   "source": [
    "**Observations**\n",
    "\n",
    "After computing for variance, I've determined that this data is non-parametric. I can't use a t-test to analyze the relationship between my data, but a Mann-Whitney test is built to measure non-parametric data. Let's see if we have better luck with that."
   ]
  },
  {
   "cell_type": "code",
   "execution_count": 21,
   "id": "584affd0-c9f3-4dc1-a584-720d00b0bca1",
   "metadata": {},
   "outputs": [],
   "source": [
    "# This will return all of the movies made after 2011 with RT scores over 80\n",
    "rog =  nic[(nic.Year >=2011) & (nic.RottenTomatoes >=80)]\n",
    "# This will return all of the movies recorded with RT scores over 80\n",
    "ham = nic[(nic.Year <2021) & (nic.RottenTomatoes >=80)]"
   ]
  },
  {
   "cell_type": "code",
   "execution_count": 22,
   "id": "d4c98151-6882-4314-bd95-c88871ed2fec",
   "metadata": {},
   "outputs": [
    {
     "name": "stdout",
     "output_type": "stream",
     "text": [
      "We fail to reject the null hypothesis\n"
     ]
    }
   ],
   "source": [
    "from scipy.stats import mannwhitneyu\n",
    "stat, p =mannwhitneyu(rog.RottenTomatoes, ham.RottenTomatoes)\n",
    "if p < 0.05:\n",
    "    print('We reject the null hypothesis')\n",
    "else:\n",
    "    print('We fail to reject the null hypothesis')"
   ]
  },
  {
   "cell_type": "markdown",
   "id": "feafdd4e-3ee4-4a2e-83a1-41bbf23273c0",
   "metadata": {},
   "source": [
    "#### Notes\n",
    "\n",
    "Even though the average score for post-2010 films is higher overall **and** when controlling for high RT scores, I don't have enough evidence to support my hypothesis. I believe that is because there simply haven't been enough films made in the last 10-year window. Perhaps after a few more years, I can revisit this dataset with more recent films and see if my hypothesis is proven then."
   ]
  },
  {
   "cell_type": "markdown",
   "id": "c5bde272-c640-4bc3-8677-2624082182ea",
   "metadata": {},
   "source": [
    "### Suggestion Algorithm\n",
    "\n",
    "During my initial tinkering with this dataframe, I realized that it would be difficult to perform modeling on it with such a small dataset. Instead, I've decided to create a suggestion algorithm that makes reccomendations for Nicolas Cage films based on previous films watched.\n",
    "\n",
    "Steps:\n",
    "\n",
    "1. Vectorize the Dataframe\n",
    "2. Build the System"
   ]
  },
  {
   "cell_type": "code",
   "execution_count": 23,
   "id": "3d857462-9e36-4b35-895a-ce7a41819852",
   "metadata": {},
   "outputs": [
    {
     "data": {
      "text/html": [
       "<div>\n",
       "<style scoped>\n",
       "    .dataframe tbody tr th:only-of-type {\n",
       "        vertical-align: middle;\n",
       "    }\n",
       "\n",
       "    .dataframe tbody tr th {\n",
       "        vertical-align: top;\n",
       "    }\n",
       "\n",
       "    .dataframe thead th {\n",
       "        text-align: right;\n",
       "    }\n",
       "</style>\n",
       "<table border=\"1\" class=\"dataframe\">\n",
       "  <thead>\n",
       "    <tr style=\"text-align: right;\">\n",
       "      <th></th>\n",
       "      <th>Movie</th>\n",
       "      <th>Rating</th>\n",
       "      <th>Character</th>\n",
       "      <th>Voice</th>\n",
       "      <th>Year</th>\n",
       "      <th>RottenTomatoes</th>\n",
       "      <th>Earnings</th>\n",
       "      <th>Genre</th>\n",
       "      <th>Rating_num</th>\n",
       "      <th>Genre_num</th>\n",
       "    </tr>\n",
       "  </thead>\n",
       "  <tbody>\n",
       "    <tr>\n",
       "      <th>0</th>\n",
       "      <td>The Best of Times</td>\n",
       "      <td>TV-NR</td>\n",
       "      <td>Nicholas</td>\n",
       "      <td>0</td>\n",
       "      <td>1981</td>\n",
       "      <td>NaN</td>\n",
       "      <td>0</td>\n",
       "      <td>Comedy</td>\n",
       "      <td>4</td>\n",
       "      <td>8</td>\n",
       "    </tr>\n",
       "    <tr>\n",
       "      <th>1</th>\n",
       "      <td>Fast Times at Ridgemont High</td>\n",
       "      <td>R</td>\n",
       "      <td>Brad's Bud</td>\n",
       "      <td>0</td>\n",
       "      <td>1982</td>\n",
       "      <td>78.0</td>\n",
       "      <td>27093116</td>\n",
       "      <td>RomCom</td>\n",
       "      <td>3</td>\n",
       "      <td>5</td>\n",
       "    </tr>\n",
       "    <tr>\n",
       "      <th>2</th>\n",
       "      <td>Rumble Fish</td>\n",
       "      <td>R</td>\n",
       "      <td>Smokey</td>\n",
       "      <td>0</td>\n",
       "      <td>1983</td>\n",
       "      <td>74.0</td>\n",
       "      <td>2494480</td>\n",
       "      <td>Drama</td>\n",
       "      <td>3</td>\n",
       "      <td>1</td>\n",
       "    </tr>\n",
       "    <tr>\n",
       "      <th>3</th>\n",
       "      <td>Valley Girl</td>\n",
       "      <td>R</td>\n",
       "      <td>Randy</td>\n",
       "      <td>0</td>\n",
       "      <td>1983</td>\n",
       "      <td>83.0</td>\n",
       "      <td>16800000</td>\n",
       "      <td>RomCom</td>\n",
       "      <td>3</td>\n",
       "      <td>5</td>\n",
       "    </tr>\n",
       "    <tr>\n",
       "      <th>4</th>\n",
       "      <td>Birdy</td>\n",
       "      <td>R</td>\n",
       "      <td>Al Columbato</td>\n",
       "      <td>0</td>\n",
       "      <td>1984</td>\n",
       "      <td>83.0</td>\n",
       "      <td>1400000</td>\n",
       "      <td>Drama</td>\n",
       "      <td>3</td>\n",
       "      <td>1</td>\n",
       "    </tr>\n",
       "  </tbody>\n",
       "</table>\n",
       "</div>"
      ],
      "text/plain": [
       "                          Movie Rating     Character  Voice  Year  \\\n",
       "0             The Best of Times  TV-NR      Nicholas      0  1981   \n",
       "1  Fast Times at Ridgemont High      R    Brad's Bud      0  1982   \n",
       "2                   Rumble Fish      R        Smokey      0  1983   \n",
       "3                   Valley Girl      R         Randy      0  1983   \n",
       "4                         Birdy      R  Al Columbato      0  1984   \n",
       "\n",
       "   RottenTomatoes  Earnings   Genre  Rating_num  Genre_num  \n",
       "0             NaN         0  Comedy           4          8  \n",
       "1            78.0  27093116  RomCom           3          5  \n",
       "2            74.0   2494480   Drama           3          1  \n",
       "3            83.0  16800000  RomCom           3          5  \n",
       "4            83.0   1400000   Drama           3          1  "
      ]
     },
     "execution_count": 23,
     "metadata": {},
     "output_type": "execute_result"
    }
   ],
   "source": [
    "nic.head()"
   ]
  },
  {
   "cell_type": "code",
   "execution_count": 24,
   "id": "7f181d62-eb8c-4d52-8b6a-7ae974c1aa69",
   "metadata": {},
   "outputs": [
    {
     "name": "stdin",
     "output_type": "stream",
     "text": [
      "What film did you enjoy? Pig\n"
     ]
    },
    {
     "name": "stdout",
     "output_type": "stream",
     "text": [
      "If you enjoyed \"Pig\", you might enjoy: \n",
      "                   Movie\n",
      "13  Never on Tuesday\n",
      "2        Rumble Fish\n"
     ]
    }
   ],
   "source": [
    "wr.suggestion(nic)"
   ]
  },
  {
   "cell_type": "markdown",
   "id": "08ab2779-9cf5-4193-84cd-4963f079e130",
   "metadata": {},
   "source": [
    "### Conclusion\n",
    "\n",
    "This was a fun dataset to work with. I'd like to revisit it in the future to see how new films impact the overall results of my statistical analysis. I don't think that this is a dataset where modeling would be effective, but maybe I'm not asking the right questions yet. In addition, I'd like to revisit my suggestion function and see if I can build a dropdown menu in leui of the input function."
   ]
  }
 ],
 "metadata": {
  "kernelspec": {
   "display_name": "Python 3 (ipykernel)",
   "language": "python",
   "name": "python3"
  },
  "language_info": {
   "codemirror_mode": {
    "name": "ipython",
    "version": 3
   },
   "file_extension": ".py",
   "mimetype": "text/x-python",
   "name": "python",
   "nbconvert_exporter": "python",
   "pygments_lexer": "ipython3",
   "version": "3.9.13"
  }
 },
 "nbformat": 4,
 "nbformat_minor": 5
}
